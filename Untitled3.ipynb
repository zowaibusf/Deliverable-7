{
  "nbformat": 4,
  "nbformat_minor": 0,
  "metadata": {
    "colab": {
      "provenance": []
    },
    "kernelspec": {
      "name": "python3",
      "display_name": "Python 3"
    },
    "language_info": {
      "name": "python"
    }
  },
  "cells": [
    {
      "cell_type": "code",
      "execution_count": 1,
      "metadata": {
        "colab": {
          "base_uri": "https://localhost:8080/"
        },
        "id": "ztAGX3OIhWLO",
        "outputId": "76074864-7596-488e-f122-dd5ebf3d2715"
      },
      "outputs": [
        {
          "output_type": "stream",
          "name": "stdout",
          "text": [
            "Enter a positive integer: 5\n",
            "   Even  Odd  Fibonacci\n",
            "0     0    1          0\n",
            "1     2    3          1\n",
            "2     4    5          1\n",
            "3     6    7          2\n",
            "4     8    9          3\n"
          ]
        }
      ],
      "source": [
        "import pandas as pd\n",
        "\n",
        "n = int(input(\"Enter a positive integer: \"))\n",
        "\n",
        "if n <= 0:\n",
        "    print(\"Invalid input.\")\n",
        "else:\n",
        "    even_list = [i*2 for i in range(n)]\n",
        "    odd_list = [i*2+1 for i in range(n)]\n",
        "    \n",
        "    fib_list = [0]*n\n",
        "    fib_list[0], fib_list[1] = 0, 1\n",
        "    for i in range(2, n):\n",
        "        fib_list[i] = fib_list[i-1] + fib_list[i-2]\n",
        "\n",
        "    data = {\"Even\": even_list, \"Odd\": odd_list, \"Fibonacci\": fib_list}\n",
        "    df = pd.DataFrame(data)\n",
        "    print(df)"
      ]
    }
  ]
}